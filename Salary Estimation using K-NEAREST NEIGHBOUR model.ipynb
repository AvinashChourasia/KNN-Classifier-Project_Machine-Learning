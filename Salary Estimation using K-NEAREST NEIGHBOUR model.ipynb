{
 "cells": [
  {
   "cell_type": "markdown",
   "id": "d3f9d64e",
   "metadata": {},
   "source": [
    "# Salary Estimation | K-NEAREST NEIGHBOUR model"
   ]
  },
  {
   "cell_type": "code",
   "execution_count": 1,
   "id": "eaf3eb4d",
   "metadata": {},
   "outputs": [],
   "source": [
    "import pandas as pd \n",
    "import numpy as np #to perform array"
   ]
  },
  {
   "cell_type": "code",
   "execution_count": 2,
   "id": "b2a098f5",
   "metadata": {},
   "outputs": [],
   "source": [
    "dataset = pd.read_csv('salary.csv')"
   ]
  },
  {
   "cell_type": "code",
   "execution_count": 3,
   "id": "e4790bb9",
   "metadata": {},
   "outputs": [
    {
     "name": "stdout",
     "output_type": "stream",
     "text": [
      "(32561, 5)\n",
      "   age  education.num  capital.gain  hours.per.week income\n",
      "0   90              9             0              40  <=50K\n",
      "1   82              9             0              18  <=50K\n",
      "2   66             10             0              40  <=50K\n",
      "3   54              4             0              40  <=50K\n",
      "4   41             10             0              40  <=50K\n"
     ]
    }
   ],
   "source": [
    "print(dataset.shape)\n",
    "print(dataset.head(5))"
   ]
  },
  {
   "cell_type": "markdown",
   "id": "9dc8cd88",
   "metadata": {},
   "source": [
    "# *Mapping Salary Data to Binary Value*"
   ]
  },
  {
   "cell_type": "code",
   "execution_count": 5,
   "id": "0fadfce5",
   "metadata": {},
   "outputs": [
    {
     "name": "stdout",
     "output_type": "stream",
     "text": [
      "<bound method NDFrame.head of        age  education.num  capital.gain  hours.per.week  income\n",
      "0       90              9             0              40       0\n",
      "1       82              9             0              18       0\n",
      "2       66             10             0              40       0\n",
      "3       54              4             0              40       0\n",
      "4       41             10             0              40       0\n",
      "...    ...            ...           ...             ...     ...\n",
      "32556   22             10             0              40       0\n",
      "32557   27             12             0              38       0\n",
      "32558   40              9             0              40       1\n",
      "32559   58              9             0              40       0\n",
      "32560   22              9             0              20       0\n",
      "\n",
      "[32561 rows x 5 columns]>\n"
     ]
    }
   ],
   "source": [
    "income_set = set(dataset['income'])\n",
    "dataset['income'] = dataset['income'].map({'<=50K': 0, '>50K': 1}).astype(int)\n",
    "print(dataset.head)"
   ]
  },
  {
   "cell_type": "code",
   "execution_count": 6,
   "id": "ad3a2ebc",
   "metadata": {},
   "outputs": [
    {
     "data": {
      "text/plain": [
       "array([[90,  9,  0, 40],\n",
       "       [82,  9,  0, 18],\n",
       "       [66, 10,  0, 40],\n",
       "       ...,\n",
       "       [40,  9,  0, 40],\n",
       "       [58,  9,  0, 40],\n",
       "       [22,  9,  0, 20]], dtype=int64)"
      ]
     },
     "execution_count": 6,
     "metadata": {},
     "output_type": "execute_result"
    }
   ],
   "source": [
    "X = dataset.iloc[:, :-1].values\n",
    "X"
   ]
  },
  {
   "cell_type": "code",
   "execution_count": 7,
   "id": "f17da003",
   "metadata": {},
   "outputs": [
    {
     "data": {
      "text/plain": [
       "array([0, 0, 0, ..., 1, 0, 0])"
      ]
     },
     "execution_count": 7,
     "metadata": {},
     "output_type": "execute_result"
    }
   ],
   "source": [
    "Y = dataset.iloc[:, -1].values\n",
    "Y"
   ]
  },
  {
   "cell_type": "markdown",
   "id": "7189c0f2",
   "metadata": {},
   "source": [
    "# *Splitting Dataset into Train & Test*"
   ]
  },
  {
   "cell_type": "code",
   "execution_count": 8,
   "id": "519b01d7",
   "metadata": {},
   "outputs": [],
   "source": [
    "from sklearn.model_selection import train_test_split\n",
    "X_train, X_test, y_train, y_test = train_test_split(X, Y, test_size = 0.25, random_state = 0)"
   ]
  },
  {
   "cell_type": "markdown",
   "id": "93c8fbbf",
   "metadata": {},
   "source": [
    "# *Feature Scaling*"
   ]
  },
  {
   "cell_type": "code",
   "execution_count": 9,
   "id": "1f47c5a3",
   "metadata": {},
   "outputs": [],
   "source": [
    "from sklearn.preprocessing import StandardScaler\n",
    "sc = StandardScaler()\n",
    "X_train = sc.fit_transform(X_train) \n",
    "X_test = sc.transform(X_test) "
   ]
  },
  {
   "cell_type": "markdown",
   "id": "4c51a146",
   "metadata": {},
   "source": [
    "# *Finding the Best K-Value*"
   ]
  },
  {
   "cell_type": "code",
   "execution_count": 10,
   "id": "f0100088",
   "metadata": {},
   "outputs": [
    {
     "data": {
      "text/plain": [
       "Text(0, 0.5, 'Mean Error')"
      ]
     },
     "execution_count": 10,
     "metadata": {},
     "output_type": "execute_result"
    },
    {
     "data": {
      "image/png": "[encoded data removed]",
      "text/plain": [
       "<Figure size 864x432 with 1 Axes>"
      ]
     },
     "metadata": {
      "needs_background": "light"
     },
     "output_type": "display_data"
    }
   ],
   "source": [
    "error = []\n",
    "from sklearn.neighbors import KNeighborsClassifier\n",
    "import matplotlib.pyplot as plt\n",
    "\n",
    "# Calculating error for K values between 1 and 40\n",
    "for i in range(1, 40):\n",
    "    model = KNeighborsClassifier(n_neighbors=i)\n",
    "    model.fit(X_train, y_train)\n",
    "    pred_i = model.predict(X_test)\n",
    "    error.append(np.mean(pred_i != y_test))\n",
    "\n",
    "plt.figure(figsize=(12, 6))\n",
    "plt.plot(range(1, 40), error, color='red', linestyle='dashed', marker='o',\n",
    "         markerfacecolor='blue', markersize=10)\n",
    "plt.title('Error Rate K Value')\n",
    "plt.xlabel('K Value')\n",
    "plt.ylabel('Mean Error')"
   ]
  },
  {
   "cell_type": "markdown",
   "id": "50934706",
   "metadata": {},
   "source": [
    "# *Training*"
   ]
  },
  {
   "cell_type": "code",
   "execution_count": 16,
   "id": "18ceb924",
   "metadata": {},
   "outputs": [
    {
     "data": {
      "text/plain": [
       "KNeighborsClassifier(n_neighbors=16)"
      ]
     },
     "execution_count": 16,
     "metadata": {},
     "output_type": "execute_result"
    }
   ],
   "source": [
    "from sklearn.neighbors import KNeighborsClassifier\n",
    "model = KNeighborsClassifier(n_neighbors = 16, metric = 'minkowski', p = 2)\n",
    "model.fit(X_train, y_train)"
   ]
  },
  {
   "cell_type": "markdown",
   "id": "9d78540d",
   "metadata": {},
   "source": [
    "# *Predicting, wheather new customer with Age & Salary will Buy or Not*"
   ]
  },
  {
   "cell_type": "code",
   "execution_count": 17,
   "id": "ebb96a9f",
   "metadata": {},
   "outputs": [
    {
     "name": "stdout",
     "output_type": "stream",
     "text": [
      "Enter New Employee's Age: 60\n",
      "Enter New Employee's Education: 9\n",
      "Enter New Employee's Captital Gain: 0\n",
      "Enter New Employee's Hour's Per week: 20\n",
      "[0]\n",
      "Customer might not got  Salary above 50K\n"
     ]
    }
   ],
   "source": [
    "age = int(input(\"Enter New Employee's Age: \"))\n",
    "edu = int(input(\"Enter New Employee's Education: \"))\n",
    "cg = int(input(\"Enter New Employee's Captital Gain: \"))\n",
    "wh = int(input(\"Enter New Employee's Hour's Per week: \"))\n",
    "newEmp = [[age,edu,cg,wh]]\n",
    "result = model.predict(sc.transform(newEmp))\n",
    "print(result)\n",
    "\n",
    "if result == 1:\n",
    "  print(\"Employee might got Salary above 50K\")\n",
    "else:\n",
    "  print(\"Customer might not got  Salary above 50K\")"
   ]
  },
  {
   "cell_type": "markdown",
   "id": "206c4887",
   "metadata": {},
   "source": [
    "# *Prediction for all Test Data*"
   ]
  },
  {
   "cell_type": "code",
   "execution_count": 18,
   "id": "24b4bbc5",
   "metadata": {},
   "outputs": [
    {
     "name": "stdout",
     "output_type": "stream",
     "text": [
      "[[0 0]\n",
      " [0 0]\n",
      " [0 0]\n",
      " ...\n",
      " [0 0]\n",
      " [0 0]\n",
      " [0 0]]\n"
     ]
    }
   ],
   "source": [
    "y_pred = model.predict(X_test)\n",
    "print(np.concatenate((y_pred.reshape(len(y_pred),1), y_test.reshape(len(y_test),1)),1))"
   ]
  },
  {
   "cell_type": "markdown",
   "id": "0112999f",
   "metadata": {},
   "source": [
    "# *Evaluating Model - CONFUSION MATRIX*"
   ]
  },
  {
   "cell_type": "code",
   "execution_count": 19,
   "id": "50431d6d",
   "metadata": {},
   "outputs": [
    {
     "name": "stdout",
     "output_type": "stream",
     "text": [
      "Confusion Matrix: \n",
      "[[5882  311]\n",
      " [1185  763]]\n",
      "Accuracy of the Model: 81.62387913032796%\n"
     ]
    }
   ],
   "source": [
    "from sklearn.metrics import confusion_matrix, accuracy_score\n",
    "cm = confusion_matrix(y_test, y_pred)\n",
    "\n",
    "print(\"Confusion Matrix: \")\n",
    "print(cm)\n",
    "\n",
    "print(\"Accuracy of the Model: {0}%\".format(accuracy_score(y_test, y_pred)*100))"
   ]
  },
  {
   "cell_type": "code",
   "execution_count": null,
   "id": "e34b829e",
   "metadata": {},
   "outputs": [],
   "source": []
  }
 ],
 "metadata": {
  "kernelspec": {
   "display_name": "Python 3 (ipykernel)",
   "language": "python",
   "name": "python3"
  },
  "language_info": {
   "codemirror_mode": {
    "name": "ipython",
    "version": 3
   },
   "file_extension": ".py",
   "mimetype": "text/x-python",
   "name": "python",
   "nbconvert_exporter": "python",
   "pygments_lexer": "ipython3",
   "version": "3.9.7"
  }
 },
 "nbformat": 4,
 "nbformat_minor": 5
}
